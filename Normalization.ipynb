{
 "cells": [
  {
   "cell_type": "code",
   "execution_count": 3,
   "id": "af7da9a4-77a6-40d6-9093-dfd5eaee8e91",
   "metadata": {},
   "outputs": [
    {
     "name": "stdout",
     "output_type": "stream",
     "text": [
      "Normalized Data: [0.0, 0.23076923076923078, 0.46153846153846156, 0.6153846153846154, 1.0]\n"
     ]
    }
   ],
   "source": [
    "data=[20,50, 80,100, 150]\n",
    "min_val = min(data)\n",
    "max_val = max(data)\n",
    "normalized_data = [(x-min_val)/(max_val-min_val) for x in data]\n",
    "print(\"Normalized Data:\", normalized_data)"
   ]
  },
  {
   "cell_type": "code",
   "execution_count": 6,
   "id": "2dd65d69-f176-4bda-8d77-2ce7d9850fd6",
   "metadata": {},
   "outputs": [
    {
     "name": "stdout",
     "output_type": "stream",
     "text": [
      "Normalized Data:\n",
      " [[0.        ]\n",
      " [0.23076923]\n",
      " [0.46153846]\n",
      " [0.61538462]\n",
      " [1.        ]]\n"
     ]
    }
   ],
   "source": [
    "from sklearn.preprocessing import MinMaxScaler\n",
    "import numpy as np\n",
    "data=np.array([20,50,80,100,150]).reshape(-1,1)\n",
    "scaler = MinMaxScaler()\n",
    "normalized_data = scaler.fit_transform(data)\n",
    "print(\"Normalized Data:\\n\",normalized_data)"
   ]
  },
  {
   "cell_type": "code",
   "execution_count": 8,
   "id": "a7aec6f2-47af-43fa-b8c1-32bbc76c36e6",
   "metadata": {},
   "outputs": [
    {
     "name": "stdout",
     "output_type": "stream",
     "text": [
      "Normalized DataFrame:\n",
      "    Age  Salary\n",
      "0  0.00    0.00\n",
      "1  0.25    0.25\n",
      "2  0.50    0.50\n",
      "3  0.75    0.75\n",
      "4  1.00    1.00\n"
     ]
    }
   ],
   "source": [
    "import pandas as pd\n",
    "data={'Age': [20,25,30,35,40],\n",
    "      'Salary': [20000, 30000, 40000, 50000, 60000]}\n",
    "df=pd.DataFrame(data)\n",
    "df_normalized = (df - df.min()) / (df.max() - df.min())\n",
    "print(\"Normalized DataFrame:\")\n",
    "print(df_normalized)"
   ]
  },
  {
   "cell_type": "code",
   "execution_count": 11,
   "id": "a9867b3c-54ee-4bef-8104-a4735b130422",
   "metadata": {},
   "outputs": [
    {
     "name": "stdout",
     "output_type": "stream",
     "text": [
      "Normalized DataFrame using MinMaxScaler:\n",
      "          age  sex        cp  trestbps      chol  fbs  restecg   thalach  \\\n",
      "0    0.708333  1.0  1.000000  0.481132  0.244292  1.0      0.0  0.603053   \n",
      "1    0.166667  1.0  0.666667  0.339623  0.283105  0.0      0.5  0.885496   \n",
      "2    0.250000  0.0  0.333333  0.339623  0.178082  0.0      0.0  0.770992   \n",
      "3    0.562500  1.0  0.333333  0.245283  0.251142  0.0      0.5  0.816794   \n",
      "4    0.583333  0.0  0.000000  0.245283  0.520548  0.0      0.5  0.702290   \n",
      "..        ...  ...       ...       ...       ...  ...      ...       ...   \n",
      "298  0.583333  0.0  0.000000  0.433962  0.262557  0.0      0.5  0.396947   \n",
      "299  0.333333  1.0  1.000000  0.150943  0.315068  0.0      0.5  0.465649   \n",
      "300  0.812500  1.0  0.000000  0.471698  0.152968  1.0      0.5  0.534351   \n",
      "301  0.583333  1.0  0.000000  0.339623  0.011416  0.0      0.5  0.335878   \n",
      "302  0.583333  0.0  0.333333  0.339623  0.251142  0.0      0.0  0.786260   \n",
      "\n",
      "     exang   oldpeak  slope    ca      thal  target  \n",
      "0      0.0  0.370968    0.0  0.00  0.333333     1.0  \n",
      "1      0.0  0.564516    0.0  0.00  0.666667     1.0  \n",
      "2      0.0  0.225806    1.0  0.00  0.666667     1.0  \n",
      "3      0.0  0.129032    1.0  0.00  0.666667     1.0  \n",
      "4      1.0  0.096774    1.0  0.00  0.666667     1.0  \n",
      "..     ...       ...    ...   ...       ...     ...  \n",
      "298    1.0  0.032258    0.5  0.00  1.000000     0.0  \n",
      "299    0.0  0.193548    0.5  0.00  1.000000     0.0  \n",
      "300    0.0  0.548387    0.5  0.50  1.000000     0.0  \n",
      "301    1.0  0.193548    0.5  0.25  1.000000     0.0  \n",
      "302    0.0  0.000000    0.5  0.25  0.666667     0.0  \n",
      "\n",
      "[303 rows x 14 columns]\n"
     ]
    }
   ],
   "source": [
    "from sklearn.preprocessing import MinMaxScaler\n",
    "df = pd.read_csv(\"heart.csv\")\n",
    "scaler=MinMaxScaler()\n",
    "df_scaled = pd.DataFrame(scaler.fit_transform(df), columns=df.columns)\n",
    "print(\"Normalized DataFrame using MinMaxScaler:\")\n",
    "print(df_scaled)"
   ]
  },
  {
   "cell_type": "code",
   "execution_count": 12,
   "id": "fab8b13b-ffee-4c00-b70b-851617a25de1",
   "metadata": {},
   "outputs": [
    {
     "data": {
      "text/html": [
       "<div>\n",
       "<style scoped>\n",
       "    .dataframe tbody tr th:only-of-type {\n",
       "        vertical-align: middle;\n",
       "    }\n",
       "\n",
       "    .dataframe tbody tr th {\n",
       "        vertical-align: top;\n",
       "    }\n",
       "\n",
       "    .dataframe thead th {\n",
       "        text-align: right;\n",
       "    }\n",
       "</style>\n",
       "<table border=\"1\" class=\"dataframe\">\n",
       "  <thead>\n",
       "    <tr style=\"text-align: right;\">\n",
       "      <th></th>\n",
       "      <th>age</th>\n",
       "      <th>sex</th>\n",
       "      <th>cp</th>\n",
       "      <th>trestbps</th>\n",
       "      <th>chol</th>\n",
       "      <th>fbs</th>\n",
       "      <th>restecg</th>\n",
       "      <th>thalach</th>\n",
       "      <th>exang</th>\n",
       "      <th>oldpeak</th>\n",
       "      <th>slope</th>\n",
       "      <th>ca</th>\n",
       "      <th>thal</th>\n",
       "      <th>target</th>\n",
       "    </tr>\n",
       "  </thead>\n",
       "  <tbody>\n",
       "    <tr>\n",
       "      <th>0</th>\n",
       "      <td>63</td>\n",
       "      <td>1</td>\n",
       "      <td>3</td>\n",
       "      <td>145</td>\n",
       "      <td>233</td>\n",
       "      <td>1</td>\n",
       "      <td>0</td>\n",
       "      <td>150</td>\n",
       "      <td>0</td>\n",
       "      <td>2.3</td>\n",
       "      <td>0</td>\n",
       "      <td>0</td>\n",
       "      <td>1</td>\n",
       "      <td>1</td>\n",
       "    </tr>\n",
       "    <tr>\n",
       "      <th>1</th>\n",
       "      <td>37</td>\n",
       "      <td>1</td>\n",
       "      <td>2</td>\n",
       "      <td>130</td>\n",
       "      <td>250</td>\n",
       "      <td>0</td>\n",
       "      <td>1</td>\n",
       "      <td>187</td>\n",
       "      <td>0</td>\n",
       "      <td>3.5</td>\n",
       "      <td>0</td>\n",
       "      <td>0</td>\n",
       "      <td>2</td>\n",
       "      <td>1</td>\n",
       "    </tr>\n",
       "    <tr>\n",
       "      <th>2</th>\n",
       "      <td>41</td>\n",
       "      <td>0</td>\n",
       "      <td>1</td>\n",
       "      <td>130</td>\n",
       "      <td>204</td>\n",
       "      <td>0</td>\n",
       "      <td>0</td>\n",
       "      <td>172</td>\n",
       "      <td>0</td>\n",
       "      <td>1.4</td>\n",
       "      <td>2</td>\n",
       "      <td>0</td>\n",
       "      <td>2</td>\n",
       "      <td>1</td>\n",
       "    </tr>\n",
       "    <tr>\n",
       "      <th>3</th>\n",
       "      <td>56</td>\n",
       "      <td>1</td>\n",
       "      <td>1</td>\n",
       "      <td>120</td>\n",
       "      <td>236</td>\n",
       "      <td>0</td>\n",
       "      <td>1</td>\n",
       "      <td>178</td>\n",
       "      <td>0</td>\n",
       "      <td>0.8</td>\n",
       "      <td>2</td>\n",
       "      <td>0</td>\n",
       "      <td>2</td>\n",
       "      <td>1</td>\n",
       "    </tr>\n",
       "    <tr>\n",
       "      <th>4</th>\n",
       "      <td>57</td>\n",
       "      <td>0</td>\n",
       "      <td>0</td>\n",
       "      <td>120</td>\n",
       "      <td>354</td>\n",
       "      <td>0</td>\n",
       "      <td>1</td>\n",
       "      <td>163</td>\n",
       "      <td>1</td>\n",
       "      <td>0.6</td>\n",
       "      <td>2</td>\n",
       "      <td>0</td>\n",
       "      <td>2</td>\n",
       "      <td>1</td>\n",
       "    </tr>\n",
       "  </tbody>\n",
       "</table>\n",
       "</div>"
      ],
      "text/plain": [
       "   age  sex  cp  trestbps  chol  fbs  restecg  thalach  exang  oldpeak  slope  \\\n",
       "0   63    1   3       145   233    1        0      150      0      2.3      0   \n",
       "1   37    1   2       130   250    0        1      187      0      3.5      0   \n",
       "2   41    0   1       130   204    0        0      172      0      1.4      2   \n",
       "3   56    1   1       120   236    0        1      178      0      0.8      2   \n",
       "4   57    0   0       120   354    0        1      163      1      0.6      2   \n",
       "\n",
       "   ca  thal  target  \n",
       "0   0     1       1  \n",
       "1   0     2       1  \n",
       "2   0     2       1  \n",
       "3   0     2       1  \n",
       "4   0     2       1  "
      ]
     },
     "execution_count": 12,
     "metadata": {},
     "output_type": "execute_result"
    }
   ],
   "source": [
    "df.head()"
   ]
  },
  {
   "cell_type": "code",
   "execution_count": null,
   "id": "f653fc6b-c3d0-4220-b4d0-93f7a5bb1f77",
   "metadata": {},
   "outputs": [],
   "source": []
  }
 ],
 "metadata": {
  "kernelspec": {
   "display_name": "Python 3 (ipykernel)",
   "language": "python",
   "name": "python3"
  },
  "language_info": {
   "codemirror_mode": {
    "name": "ipython",
    "version": 3
   },
   "file_extension": ".py",
   "mimetype": "text/x-python",
   "name": "python",
   "nbconvert_exporter": "python",
   "pygments_lexer": "ipython3",
   "version": "3.12.9"
  }
 },
 "nbformat": 4,
 "nbformat_minor": 5
}
